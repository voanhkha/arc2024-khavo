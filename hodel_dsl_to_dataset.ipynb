{
 "cells": [
  {
   "cell_type": "markdown",
   "id": "586d439c-fad1-4d4e-ad5a-1500c9021fec",
   "metadata": {},
   "source": [
    "### Overview\n",
    "\n",
    "In this notebook, we will construct a dataset that aims to allow us to learn a multi-label CNN model (with the input as 1 pair of input-output image of a single task, and the output as the 160-array of 160 operations)"
   ]
  },
  {
   "cell_type": "code",
   "execution_count": null,
   "id": "6849c62f-9035-4d34-967a-c3f2b8dbe92a",
   "metadata": {},
   "outputs": [],
   "source": []
  },
  {
   "cell_type": "code",
   "execution_count": 1,
   "id": "33c0308a-4bb9-4943-9a0b-ba20d601694f",
   "metadata": {},
   "outputs": [],
   "source": [
    "import numpy as np, pandas as pd, json, random\n",
    "from tqdm.notebook import tqdm\n",
    "tqdm.pandas()\n",
    "\n",
    "def load_json(file_path):\n",
    "    with open(file_path) as f:\n",
    "        data = json.load(f)\n",
    "    return data"
   ]
  },
  {
   "cell_type": "code",
   "execution_count": null,
   "id": "ed87458d-31d6-407e-912b-08267118daa4",
   "metadata": {},
   "outputs": [],
   "source": []
  },
  {
   "cell_type": "code",
   "execution_count": 3,
   "id": "daba27bc-978d-4540-adad-b38379ead209",
   "metadata": {},
   "outputs": [
    {
     "name": "stdout",
     "output_type": "stream",
     "text": [
      "Functions (160): ['identity', 'add', 'subtract', 'multiply', 'divide', 'invert', 'even', 'double', 'halve', 'flip', 'equality', 'contained', 'combine', 'intersection', 'difference', 'dedupe', 'order', 'repeat', 'greater', 'size', 'merge', 'maximum', 'minimum', 'valmax', 'valmin', 'argmax', 'argmin', 'mostcommon', 'leastcommon', 'initset', 'both', 'either', 'increment', 'decrement', 'crement', 'sign', 'positive', 'toivec', 'tojvec', 'sfilter', 'mfilter', 'extract', 'totuple', 'first', 'last', 'insert', 'remove', 'other', 'interval', 'astuple', 'product', 'pair', 'branch', 'compose', 'chain', 'matcher', 'rbind', 'lbind', 'power', 'fork', 'apply', 'rapply', 'mapply', 'papply', 'mpapply', 'prapply', 'mostcolor', 'leastcolor', 'height', 'width', 'shape', 'portrait', 'colorcount', 'colorfilter', 'sizefilter', 'asindices', 'ofcolor', 'ulcorner', 'urcorner', 'llcorner', 'lrcorner', 'crop', 'toindices', 'recolor', 'shift', 'normalize', 'dneighbors', 'ineighbors', 'neighbors', 'objects', 'partition', 'fgpartition', 'uppermost', 'lowermost', 'leftmost', 'rightmost', 'square', 'vline', 'hline', 'hmatching', 'vmatching', 'manhattan', 'adjacent', 'bordering', 'centerofmass', 'palette', 'numcolors', 'color', 'toobject', 'asobject', 'rot90', 'rot180', 'rot270', 'hmirror', 'vmirror', 'dmirror', 'cmirror', 'fill', 'paint', 'underfill', 'underpaint', 'hupscale', 'vupscale', 'upscale', 'downscale', 'hconcat', 'vconcat', 'subgrid', 'hsplit', 'vsplit', 'cellwise', 'replace', 'switch', 'center', 'position', 'index', 'canvas', 'corners', 'connect', 'cover', 'trim', 'move', 'tophalf', 'bottomhalf', 'lefthalf', 'righthalf', 'vfrontier', 'hfrontier', 'backdrop', 'delta', 'gravitate', 'inbox', 'outbox', 'box', 'shoot', 'occurrences', 'frontiers', 'compress', 'hperiod', 'vperiod']\n"
     ]
    }
   ],
   "source": [
    "with open(\"hodel/dsl.py\",\"r\") as f:\n",
    "    dsl_text_file = f.read()\n",
    "\n",
    "dsl_text_file.count(\"\\ndef \")\n",
    "dsl_text_file = dsl_text_file.split(\"\\ndef \")[1:]\n",
    "functions = []\n",
    "for f in dsl_text_file:\n",
    "    functions.append(f.split('(')[0])\n",
    "\n",
    "print(f\"Functions ({len(functions)}): {functions}\")"
   ]
  },
  {
   "cell_type": "code",
   "execution_count": null,
   "id": "2da6e15c-5112-4da5-8f2b-16921f181a44",
   "metadata": {},
   "outputs": [],
   "source": []
  },
  {
   "cell_type": "code",
   "execution_count": 4,
   "id": "c4c68990-b5b7-4eef-9ebb-01b05bd6ce65",
   "metadata": {},
   "outputs": [
    {
     "name": "stdout",
     "output_type": "stream",
     "text": [
      "400\n"
     ]
    }
   ],
   "source": [
    "with open(\"hodel/solvers.py\",\"r\") as f:\n",
    "    solvers_file = f.read()\n",
    "solvers_file\n",
    "solvers_strings = solvers_file.split(\"\\ndef \")[1:]\n",
    "\n",
    "solver_labels = {}\n",
    "NB_LABELS = 160\n",
    "\n",
    "for string in solvers_strings:\n",
    "    taskId = string.split('solve_')[1].split('(')[0]\n",
    "    labels = [0]*NB_LABELS\n",
    "    \n",
    "    for j, f in enumerate(functions):\n",
    "        if f in string:\n",
    "            labels[j] = 1\n",
    "\n",
    "    solver_labels[taskId] = labels\n",
    "\n",
    "print(len(solver_labels))"
   ]
  },
  {
   "cell_type": "code",
   "execution_count": null,
   "id": "52b80281-1397-4c97-b2b1-87c3af584828",
   "metadata": {},
   "outputs": [],
   "source": []
  },
  {
   "cell_type": "code",
   "execution_count": 8,
   "id": "58e1fc96-7ed6-4439-a852-5d6e71590c0a",
   "metadata": {},
   "outputs": [
    {
     "data": {
      "text/html": [
       "<div>\n",
       "<style scoped>\n",
       "    .dataframe tbody tr th:only-of-type {\n",
       "        vertical-align: middle;\n",
       "    }\n",
       "\n",
       "    .dataframe tbody tr th {\n",
       "        vertical-align: top;\n",
       "    }\n",
       "\n",
       "    .dataframe thead th {\n",
       "        text-align: right;\n",
       "    }\n",
       "</style>\n",
       "<table border=\"1\" class=\"dataframe\">\n",
       "  <thead>\n",
       "    <tr style=\"text-align: right;\">\n",
       "      <th></th>\n",
       "      <th>task_id</th>\n",
       "      <th>identity</th>\n",
       "      <th>add</th>\n",
       "      <th>subtract</th>\n",
       "      <th>multiply</th>\n",
       "      <th>divide</th>\n",
       "      <th>invert</th>\n",
       "      <th>even</th>\n",
       "      <th>double</th>\n",
       "      <th>halve</th>\n",
       "      <th>...</th>\n",
       "      <th>gravitate</th>\n",
       "      <th>inbox</th>\n",
       "      <th>outbox</th>\n",
       "      <th>box</th>\n",
       "      <th>shoot</th>\n",
       "      <th>occurrences</th>\n",
       "      <th>frontiers</th>\n",
       "      <th>compress</th>\n",
       "      <th>hperiod</th>\n",
       "      <th>vperiod</th>\n",
       "    </tr>\n",
       "  </thead>\n",
       "  <tbody>\n",
       "    <tr>\n",
       "      <th>0</th>\n",
       "      <td>67a3c6ac</td>\n",
       "      <td>0</td>\n",
       "      <td>0</td>\n",
       "      <td>0</td>\n",
       "      <td>0</td>\n",
       "      <td>0</td>\n",
       "      <td>0</td>\n",
       "      <td>0</td>\n",
       "      <td>0</td>\n",
       "      <td>0</td>\n",
       "      <td>...</td>\n",
       "      <td>0</td>\n",
       "      <td>0</td>\n",
       "      <td>0</td>\n",
       "      <td>0</td>\n",
       "      <td>0</td>\n",
       "      <td>0</td>\n",
       "      <td>0</td>\n",
       "      <td>0</td>\n",
       "      <td>0</td>\n",
       "      <td>0</td>\n",
       "    </tr>\n",
       "    <tr>\n",
       "      <th>1</th>\n",
       "      <td>68b16354</td>\n",
       "      <td>0</td>\n",
       "      <td>0</td>\n",
       "      <td>0</td>\n",
       "      <td>0</td>\n",
       "      <td>0</td>\n",
       "      <td>0</td>\n",
       "      <td>0</td>\n",
       "      <td>0</td>\n",
       "      <td>0</td>\n",
       "      <td>...</td>\n",
       "      <td>0</td>\n",
       "      <td>0</td>\n",
       "      <td>0</td>\n",
       "      <td>0</td>\n",
       "      <td>0</td>\n",
       "      <td>0</td>\n",
       "      <td>0</td>\n",
       "      <td>0</td>\n",
       "      <td>0</td>\n",
       "      <td>0</td>\n",
       "    </tr>\n",
       "    <tr>\n",
       "      <th>2</th>\n",
       "      <td>74dd1130</td>\n",
       "      <td>0</td>\n",
       "      <td>0</td>\n",
       "      <td>0</td>\n",
       "      <td>0</td>\n",
       "      <td>0</td>\n",
       "      <td>0</td>\n",
       "      <td>0</td>\n",
       "      <td>0</td>\n",
       "      <td>0</td>\n",
       "      <td>...</td>\n",
       "      <td>0</td>\n",
       "      <td>0</td>\n",
       "      <td>0</td>\n",
       "      <td>0</td>\n",
       "      <td>0</td>\n",
       "      <td>0</td>\n",
       "      <td>0</td>\n",
       "      <td>0</td>\n",
       "      <td>0</td>\n",
       "      <td>0</td>\n",
       "    </tr>\n",
       "    <tr>\n",
       "      <th>3</th>\n",
       "      <td>3c9b0459</td>\n",
       "      <td>0</td>\n",
       "      <td>0</td>\n",
       "      <td>0</td>\n",
       "      <td>0</td>\n",
       "      <td>0</td>\n",
       "      <td>0</td>\n",
       "      <td>0</td>\n",
       "      <td>0</td>\n",
       "      <td>0</td>\n",
       "      <td>...</td>\n",
       "      <td>0</td>\n",
       "      <td>0</td>\n",
       "      <td>0</td>\n",
       "      <td>0</td>\n",
       "      <td>0</td>\n",
       "      <td>0</td>\n",
       "      <td>0</td>\n",
       "      <td>0</td>\n",
       "      <td>0</td>\n",
       "      <td>0</td>\n",
       "    </tr>\n",
       "    <tr>\n",
       "      <th>4</th>\n",
       "      <td>6150a2bd</td>\n",
       "      <td>0</td>\n",
       "      <td>0</td>\n",
       "      <td>0</td>\n",
       "      <td>0</td>\n",
       "      <td>0</td>\n",
       "      <td>0</td>\n",
       "      <td>0</td>\n",
       "      <td>0</td>\n",
       "      <td>0</td>\n",
       "      <td>...</td>\n",
       "      <td>0</td>\n",
       "      <td>0</td>\n",
       "      <td>0</td>\n",
       "      <td>0</td>\n",
       "      <td>0</td>\n",
       "      <td>0</td>\n",
       "      <td>0</td>\n",
       "      <td>0</td>\n",
       "      <td>0</td>\n",
       "      <td>0</td>\n",
       "    </tr>\n",
       "  </tbody>\n",
       "</table>\n",
       "<p>5 rows × 161 columns</p>\n",
       "</div>"
      ],
      "text/plain": [
       "    task_id  identity  add  subtract  multiply  divide  invert  even  double  \\\n",
       "0  67a3c6ac         0    0         0         0       0       0     0       0   \n",
       "1  68b16354         0    0         0         0       0       0     0       0   \n",
       "2  74dd1130         0    0         0         0       0       0     0       0   \n",
       "3  3c9b0459         0    0         0         0       0       0     0       0   \n",
       "4  6150a2bd         0    0         0         0       0       0     0       0   \n",
       "\n",
       "   halve  ...  gravitate  inbox  outbox  box  shoot  occurrences  frontiers  \\\n",
       "0      0  ...          0      0       0    0      0            0          0   \n",
       "1      0  ...          0      0       0    0      0            0          0   \n",
       "2      0  ...          0      0       0    0      0            0          0   \n",
       "3      0  ...          0      0       0    0      0            0          0   \n",
       "4      0  ...          0      0       0    0      0            0          0   \n",
       "\n",
       "   compress  hperiod  vperiod  \n",
       "0         0        0        0  \n",
       "1         0        0        0  \n",
       "2         0        0        0  \n",
       "3         0        0        0  \n",
       "4         0        0        0  \n",
       "\n",
       "[5 rows x 161 columns]"
      ]
     },
     "execution_count": 8,
     "metadata": {},
     "output_type": "execute_result"
    }
   ],
   "source": [
    "dataset = pd.DataFrame(solver_labels).T\n",
    "dataset.columns = functions\n",
    "dataset['task_id'] = dataset.index.values\n",
    "dataset = dataset.reset_index(drop=True)\n",
    "dataset = dataset[['task_id'] + [col for col in dataset.columns if col not in ['task_id' ]]]\n",
    "dataset.to_csv('hodel/function_dataset.csv', index=None)\n",
    "dataset.head()"
   ]
  },
  {
   "cell_type": "code",
   "execution_count": null,
   "id": "591b8d24-8447-43b9-8a2b-88875bc3fa0a",
   "metadata": {},
   "outputs": [],
   "source": []
  },
  {
   "cell_type": "code",
   "execution_count": 11,
   "id": "8f5f5181-97be-4e99-af51-a204ec9d82b8",
   "metadata": {},
   "outputs": [],
   "source": [
    "base_path = 'arc-prize-2024/'\n",
    "train_tasks   = load_json(base_path +'arc-agi_training_challenges.json')\n",
    "train_sols    = load_json(base_path +'arc-agi_training_solutions.json')\n",
    "eval_tasks = load_json(base_path +'arc-agi_evaluation_challenges.json')\n",
    "eval_sols  = load_json(base_path +'arc-agi_evaluation_solutions.json')"
   ]
  },
  {
   "cell_type": "code",
   "execution_count": 10,
   "id": "814bde5f-6202-4f37-a130-c4b8deae4301",
   "metadata": {},
   "outputs": [
    {
     "data": {
      "text/plain": [
       "{'test': [{'input': [[7, 0, 7], [7, 0, 7], [7, 7, 0]]}],\n",
       " 'train': [{'input': [[0, 7, 7], [7, 7, 7], [0, 7, 7]],\n",
       "   'output': [[0, 0, 0, 0, 7, 7, 0, 7, 7],\n",
       "    [0, 0, 0, 7, 7, 7, 7, 7, 7],\n",
       "    [0, 0, 0, 0, 7, 7, 0, 7, 7],\n",
       "    [0, 7, 7, 0, 7, 7, 0, 7, 7],\n",
       "    [7, 7, 7, 7, 7, 7, 7, 7, 7],\n",
       "    [0, 7, 7, 0, 7, 7, 0, 7, 7],\n",
       "    [0, 0, 0, 0, 7, 7, 0, 7, 7],\n",
       "    [0, 0, 0, 7, 7, 7, 7, 7, 7],\n",
       "    [0, 0, 0, 0, 7, 7, 0, 7, 7]]},\n",
       "  {'input': [[4, 0, 4], [0, 0, 0], [0, 4, 0]],\n",
       "   'output': [[4, 0, 4, 0, 0, 0, 4, 0, 4],\n",
       "    [0, 0, 0, 0, 0, 0, 0, 0, 0],\n",
       "    [0, 4, 0, 0, 0, 0, 0, 4, 0],\n",
       "    [0, 0, 0, 0, 0, 0, 0, 0, 0],\n",
       "    [0, 0, 0, 0, 0, 0, 0, 0, 0],\n",
       "    [0, 0, 0, 0, 0, 0, 0, 0, 0],\n",
       "    [0, 0, 0, 4, 0, 4, 0, 0, 0],\n",
       "    [0, 0, 0, 0, 0, 0, 0, 0, 0],\n",
       "    [0, 0, 0, 0, 4, 0, 0, 0, 0]]},\n",
       "  {'input': [[0, 0, 0], [0, 0, 2], [2, 0, 2]],\n",
       "   'output': [[0, 0, 0, 0, 0, 0, 0, 0, 0],\n",
       "    [0, 0, 0, 0, 0, 0, 0, 0, 0],\n",
       "    [0, 0, 0, 0, 0, 0, 0, 0, 0],\n",
       "    [0, 0, 0, 0, 0, 0, 0, 0, 0],\n",
       "    [0, 0, 0, 0, 0, 0, 0, 0, 2],\n",
       "    [0, 0, 0, 0, 0, 0, 2, 0, 2],\n",
       "    [0, 0, 0, 0, 0, 0, 0, 0, 0],\n",
       "    [0, 0, 2, 0, 0, 0, 0, 0, 2],\n",
       "    [2, 0, 2, 0, 0, 0, 2, 0, 2]]},\n",
       "  {'input': [[6, 6, 0], [6, 0, 0], [0, 6, 6]],\n",
       "   'output': [[6, 6, 0, 6, 6, 0, 0, 0, 0],\n",
       "    [6, 0, 0, 6, 0, 0, 0, 0, 0],\n",
       "    [0, 6, 6, 0, 6, 6, 0, 0, 0],\n",
       "    [6, 6, 0, 0, 0, 0, 0, 0, 0],\n",
       "    [6, 0, 0, 0, 0, 0, 0, 0, 0],\n",
       "    [0, 6, 6, 0, 0, 0, 0, 0, 0],\n",
       "    [0, 0, 0, 6, 6, 0, 6, 6, 0],\n",
       "    [0, 0, 0, 6, 0, 0, 6, 0, 0],\n",
       "    [0, 0, 0, 0, 6, 6, 0, 6, 6]]},\n",
       "  {'input': [[2, 2, 2], [0, 0, 0], [0, 2, 2]],\n",
       "   'output': [[2, 2, 2, 2, 2, 2, 2, 2, 2],\n",
       "    [0, 0, 0, 0, 0, 0, 0, 0, 0],\n",
       "    [0, 2, 2, 0, 2, 2, 0, 2, 2],\n",
       "    [0, 0, 0, 0, 0, 0, 0, 0, 0],\n",
       "    [0, 0, 0, 0, 0, 0, 0, 0, 0],\n",
       "    [0, 0, 0, 0, 0, 0, 0, 0, 0],\n",
       "    [0, 0, 0, 2, 2, 2, 2, 2, 2],\n",
       "    [0, 0, 0, 0, 0, 0, 0, 0, 0],\n",
       "    [0, 0, 0, 0, 2, 2, 0, 2, 2]]}]}"
      ]
     },
     "execution_count": 10,
     "metadata": {},
     "output_type": "execute_result"
    }
   ],
   "source": [
    "train_tasks['007bbfb7']"
   ]
  },
  {
   "cell_type": "code",
   "execution_count": null,
   "id": "e9ae85cb-044a-4f4f-85c1-c11756fc2f18",
   "metadata": {},
   "outputs": [],
   "source": []
  },
  {
   "cell_type": "code",
   "execution_count": null,
   "id": "1af22754-db84-42a8-928a-f4d23aaf266d",
   "metadata": {},
   "outputs": [],
   "source": []
  },
  {
   "cell_type": "code",
   "execution_count": null,
   "id": "2f9c658a-85eb-4f8c-8d67-ae4ed208f6e3",
   "metadata": {},
   "outputs": [],
   "source": []
  },
  {
   "cell_type": "markdown",
   "id": "febe81b6-6b6a-4379-a059-8b5c3365ddbd",
   "metadata": {},
   "source": [
    "## Generate augmented data\n",
    "\n",
    "\n",
    "We will augment the training data by:\n",
    "- Randomly place the image into a canva of 40x40\n",
    "- Flip up-down or left-right\n",
    "- Mapping colors 1-9 to a different mappping\n",
    "\n",
    "The flipping operations may damage the operation logics, but neglectible as it only affects the sub-categories of the similar moves (move up vs move down), not the general categories (connect vs extend) "
   ]
  },
  {
   "cell_type": "code",
   "execution_count": 41,
   "id": "b939f1ab-2bb8-4211-a887-68cad1c6cc4c",
   "metadata": {
    "scrolled": true
   },
   "outputs": [
    {
     "data": {
      "application/vnd.jupyter.widget-view+json": {
       "model_id": "e12123dab37145e898ab08c404c48a7b",
       "version_major": 2,
       "version_minor": 0
      },
      "text/plain": [
       "  0%|          | 0/400 [00:00<?, ?it/s]"
      ]
     },
     "metadata": {},
     "output_type": "display_data"
    }
   ],
   "source": [
    "MAX_WIDTH = 40\n",
    "MAX_HEIGHT = 40\n",
    "NB_TIMES_SHUFFLES = 10\n",
    "NB_TIMES_ROLLS = 6\n",
    "\n",
    "img_ids = []\n",
    "imgs = []\n",
    "tids = []\n",
    "\n",
    "for tid in tqdm(train_tasks.keys()):\n",
    "    \n",
    "    task = train_tasks[tid]\n",
    "\n",
    "    nb_imgs_per_task = 0\n",
    "    \n",
    "    for j0 in range(NB_TIMES_SHUFFLES):\n",
    "        # Create a mapping to randomly change color values (except 0), apply this mapping for all pairs of input-output for consistency\n",
    "        original_colors = [1,2,3,4,5,6,7,8,9]\n",
    "        shuffled_colors = [1,2,3,4,5,6,7,8,9]\n",
    "        if j0!=0: random.shuffle(shuffled_colors)  # keep the original version at j0=0\n",
    "        d = {k:v for k,v in zip(original_colors, shuffled_colors)}\n",
    "        \n",
    "        for j_pair, pair in enumerate(task['train']):\n",
    "            img_in = np.array(pair['input'])\n",
    "            img_out = np.array(pair['output'])\n",
    "\n",
    "            img_in_shuffled = np.copy(img_in)\n",
    "            for k, v in d.items(): img_in_shuffled[img_in==k] = v\n",
    "            img_out_shuffled = np.copy(img_out)\n",
    "            for k, v in d.items(): img_out_shuffled[img_out==k] = v\n",
    "\n",
    "            # Randomly roll the input or output image to an existing canva of 40x40\n",
    "            for j1 in range(NB_TIMES_ROLLS):\n",
    "\n",
    "                if j1%3==0: \n",
    "                    img_in_shuffled_flipped = img_in_shuffled\n",
    "                    img_out_shuffled_flipped = img_out_shuffled\n",
    "                if j1%3==1: # flip up down for diversity, may break some task logics but neglectible\n",
    "                    img_in_shuffled_flipped = np.flipud(img_in_shuffled)\n",
    "                    img_out_shuffled_flipped = np.flipud(img_out_shuffled)\n",
    "                if j1%3==2: # flip left right for diversity, may break some task logics but neglectible\n",
    "                    img_in_shuffled_flipped = np.fliplr(img_in_shuffled)\n",
    "                    img_out_shuffled_flipped = np.fliplr(img_out_shuffled)\n",
    "            \n",
    "                img_in_pad = -np.ones((MAX_WIDTH, MAX_HEIGHT))\n",
    "                img_in_pad[:img_in_shuffled.shape[0], :img_in_shuffled.shape[1]] = img_in_shuffled_flipped\n",
    "                roll_x = np.random.randint(1, max(0, MAX_WIDTH - img_in_shuffled.shape[0]))\n",
    "                roll_y = np.random.randint(1, max(0, MAX_HEIGHT - img_in_shuffled.shape[1]))\n",
    "                if j1 == 0: roll_x, roll_y = 0, 0\n",
    "                img_in_pad_rolled = np.roll(img_in_pad, (roll_x, roll_y), axis=(0, 1))\n",
    "                img_in_pad_rolled = np.repeat(img_in_pad_rolled[:, :, np.newaxis], 3, axis=2) # make 3 channels for image convention\n",
    "                \n",
    "                img_out_pad = -np.ones((MAX_WIDTH, MAX_HEIGHT))\n",
    "                img_out_pad[:img_out_shuffled.shape[0], :img_out_shuffled.shape[1]] = img_out_shuffled_flipped\n",
    "                roll_x = np.random.randint(1, max(0, MAX_WIDTH - img_out_shuffled.shape[0]))\n",
    "                roll_y = np.random.randint(1, max(0, MAX_HEIGHT - img_out_shuffled.shape[1]))\n",
    "                if j1 == 0: roll_x, roll_y = 0, 0\n",
    "                img_out_pad_rolled = np.roll(img_out_pad, (roll_x, roll_y), axis=(0, 1))\n",
    "                img_out_pad_rolled = np.repeat(img_out_pad_rolled[:, :, np.newaxis], 3, axis=2)\n",
    "                \n",
    "                pair_img = np.stack([img_in_pad_rolled, img_out_pad_rolled], axis=0) # shape for each pair [2, 40, 40, 3]\n",
    "               \n",
    "                imgs.append(pair_img.astype(int))\n",
    "                img_ids.append(f\"{tid}_pair{j_pair}_shuf{j0}_roll{j1}\")\n",
    "                tids.append(tid)"
   ]
  },
  {
   "cell_type": "code",
   "execution_count": null,
   "id": "5969b16e-4f40-4015-b377-6a371e237a70",
   "metadata": {},
   "outputs": [],
   "source": []
  },
  {
   "cell_type": "code",
   "execution_count": 42,
   "id": "40a8ca9b-92c4-4596-85b7-6749d196f287",
   "metadata": {},
   "outputs": [
    {
     "name": "stdout",
     "output_type": "stream",
     "text": [
      "imgs_np.shape: (78120, 2, 40, 40, 3)\n"
     ]
    },
    {
     "data": {
      "text/html": [
       "<div>\n",
       "<style scoped>\n",
       "    .dataframe tbody tr th:only-of-type {\n",
       "        vertical-align: middle;\n",
       "    }\n",
       "\n",
       "    .dataframe tbody tr th {\n",
       "        vertical-align: top;\n",
       "    }\n",
       "\n",
       "    .dataframe thead th {\n",
       "        text-align: right;\n",
       "    }\n",
       "</style>\n",
       "<table border=\"1\" class=\"dataframe\">\n",
       "  <thead>\n",
       "    <tr style=\"text-align: right;\">\n",
       "      <th></th>\n",
       "      <th>task_id</th>\n",
       "      <th>image_id</th>\n",
       "    </tr>\n",
       "  </thead>\n",
       "  <tbody>\n",
       "    <tr>\n",
       "      <th>0</th>\n",
       "      <td>007bbfb7</td>\n",
       "      <td>007bbfb7_pair0_shuf0_roll0</td>\n",
       "    </tr>\n",
       "    <tr>\n",
       "      <th>1</th>\n",
       "      <td>007bbfb7</td>\n",
       "      <td>007bbfb7_pair0_shuf0_roll1</td>\n",
       "    </tr>\n",
       "    <tr>\n",
       "      <th>2</th>\n",
       "      <td>007bbfb7</td>\n",
       "      <td>007bbfb7_pair0_shuf0_roll2</td>\n",
       "    </tr>\n",
       "    <tr>\n",
       "      <th>3</th>\n",
       "      <td>007bbfb7</td>\n",
       "      <td>007bbfb7_pair0_shuf0_roll3</td>\n",
       "    </tr>\n",
       "    <tr>\n",
       "      <th>4</th>\n",
       "      <td>007bbfb7</td>\n",
       "      <td>007bbfb7_pair0_shuf0_roll4</td>\n",
       "    </tr>\n",
       "  </tbody>\n",
       "</table>\n",
       "</div>"
      ],
      "text/plain": [
       "    task_id                    image_id\n",
       "0  007bbfb7  007bbfb7_pair0_shuf0_roll0\n",
       "1  007bbfb7  007bbfb7_pair0_shuf0_roll1\n",
       "2  007bbfb7  007bbfb7_pair0_shuf0_roll2\n",
       "3  007bbfb7  007bbfb7_pair0_shuf0_roll3\n",
       "4  007bbfb7  007bbfb7_pair0_shuf0_roll4"
      ]
     },
     "execution_count": 42,
     "metadata": {},
     "output_type": "execute_result"
    }
   ],
   "source": [
    "imgs_np = np.stack(imgs, axis=0) \n",
    "imgs_np = imgs_np.astype(np.int8) # Final shape (78120 samples, 2 imgs (in-out), 40 (w), 40 (h), 3 (channels))\n",
    "print('imgs_np.shape:', imgs_np.shape)\n",
    "df = pd.DataFrame({'task_id': tids, 'image_id': img_ids})\n",
    "df.head()"
   ]
  },
  {
   "cell_type": "code",
   "execution_count": 43,
   "id": "fbe28184-9c18-4ec9-85e1-90ee6c5fe04a",
   "metadata": {},
   "outputs": [
    {
     "data": {
      "text/plain": [
       "(image_id    120\n",
       " dtype: int64,\n",
       " image_id    600\n",
       " dtype: int64,\n",
       " image_id    195.3\n",
       " dtype: float64)"
      ]
     },
     "execution_count": 43,
     "metadata": {},
     "output_type": "execute_result"
    }
   ],
   "source": [
    "# Print the min, max, mean of nb.image pairs per taskid\n",
    "df.groupby('task_id').count().min(),  df.groupby('task_id').count().max(), df.groupby('task_id').count().mean()"
   ]
  },
  {
   "cell_type": "code",
   "execution_count": null,
   "id": "6c181de8-88ee-4fe6-92c9-7d4518366c8c",
   "metadata": {},
   "outputs": [],
   "source": []
  },
  {
   "cell_type": "code",
   "execution_count": 44,
   "id": "51156587-35eb-4d12-b23e-08519929bfce",
   "metadata": {},
   "outputs": [],
   "source": [
    "# Save to dataset files\n",
    "df.to_csv('hodel/augmented_image_dataset_metadata.csv', index=None)\n",
    "np.save('hodel/augmented_image_dataset_imageData.npy', imgs_np)"
   ]
  },
  {
   "cell_type": "code",
   "execution_count": 225,
   "id": "c2e1bf92-441a-4c7c-b843-bad5ed254a18",
   "metadata": {},
   "outputs": [],
   "source": []
  },
  {
   "cell_type": "code",
   "execution_count": null,
   "id": "5acf66e7-32af-4128-a9c4-2ee512a294d8",
   "metadata": {},
   "outputs": [],
   "source": []
  },
  {
   "cell_type": "code",
   "execution_count": null,
   "id": "9f5e11f0-341c-4791-b891-59dd76ee0e25",
   "metadata": {},
   "outputs": [],
   "source": []
  },
  {
   "cell_type": "code",
   "execution_count": null,
   "id": "0b5bd93f-0af0-47b1-93dc-54c6f3423a9e",
   "metadata": {},
   "outputs": [],
   "source": []
  },
  {
   "cell_type": "code",
   "execution_count": null,
   "id": "15f23469-733a-43ac-a72b-87ef0a0c9ef1",
   "metadata": {},
   "outputs": [],
   "source": []
  },
  {
   "cell_type": "code",
   "execution_count": null,
   "id": "8499d484-8316-4ab9-92f7-e0ac91304344",
   "metadata": {},
   "outputs": [],
   "source": []
  },
  {
   "cell_type": "code",
   "execution_count": null,
   "id": "341c380a-bbed-49a6-9bdf-906211b5c4cd",
   "metadata": {},
   "outputs": [],
   "source": []
  },
  {
   "cell_type": "code",
   "execution_count": null,
   "id": "3796164b-6950-4cc0-b3c2-cf8993d615e4",
   "metadata": {},
   "outputs": [],
   "source": []
  },
  {
   "cell_type": "code",
   "execution_count": 73,
   "id": "d1d7e4c1-91b7-4889-b024-b36bb38db750",
   "metadata": {},
   "outputs": [],
   "source": []
  },
  {
   "cell_type": "code",
   "execution_count": null,
   "id": "69e667c1-123e-4621-b833-ce28c40fc56f",
   "metadata": {},
   "outputs": [],
   "source": []
  }
 ],
 "metadata": {
  "kernelspec": {
   "display_name": "Python 3 (ipykernel)",
   "language": "python",
   "name": "python3"
  },
  "language_info": {
   "codemirror_mode": {
    "name": "ipython",
    "version": 3
   },
   "file_extension": ".py",
   "mimetype": "text/x-python",
   "name": "python",
   "nbconvert_exporter": "python",
   "pygments_lexer": "ipython3",
   "version": "3.10.14"
  }
 },
 "nbformat": 4,
 "nbformat_minor": 5
}
